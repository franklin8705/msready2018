{
 "cells": [
  {
   "cell_type": "markdown",
   "metadata": {},
   "source": [
    "# yacht_reg_keras.py\n",
    "# regression on the Yacht Hull dataset\n",
    "# Keras 2.1.5 over TensorFlow 1.7.0, Python 3.5.2\n",
    "# to use CNTK issue >SET KERAS_BACKEND=cntk (broken)"
   ]
  },
  {
   "cell_type": "code",
   "execution_count": 1,
   "metadata": {
    "collapsed": false
   },
   "outputs": [
    {
     "name": "stderr",
     "output_type": "stream",
     "text": [
      "Using TensorFlow backend.\n"
     ]
    }
   ],
   "source": [
    "import numpy as np\n",
    "import keras as K\n",
    "import os\n",
    "os.environ['TF_CPP_MIN_LOG_LEVEL']='2'  # suppress CPU notification\n",
    "\n",
    "# ------------------------------------------------------------"
   ]
  },
  {
   "cell_type": "code",
   "execution_count": 2,
   "metadata": {
    "collapsed": true
   },
   "outputs": [],
   "source": [
    "class MyLogger(K.callbacks.Callback):\n",
    "  def __init__(self, n, data_x, data_y, pct_close):\n",
    "    self.n = n   # print loss & acc every n epochs\n",
    "    self.data_x = data_x\n",
    "    self.data_y = data_y\n",
    "    self.pct_close = pct_close\n",
    "\n",
    "  def on_epoch_end(self, epoch, logs={}):\n",
    "    if epoch % self.n == 0:\n",
    "      curr_loss = logs.get('loss')  # loss on curr batch, not entire dataset\n",
    "      total_acc = my_accuracy(self.model, self.data_x, self.data_y, self.pct_close)\n",
    "      print(\"epoch = %4d  curr batch loss (mse) = %0.6f  overall acc = %0.2f%%\" % (epoch, curr_loss, total_acc * 100))\n",
    "\n",
    "def my_accuracy(model, data_x, data_y, pct_close):\n",
    "  num_correct = 0; num_wrong = 0\n",
    "  n = len(data_x)\n",
    "  for i in range(n):\n",
    "    predicted = model.predict(np.array([data_x[i]], dtype=np.float32) )  # [[ x ]]\n",
    "    actual = data_y[i]\n",
    "    if np.abs(predicted[0][0] - actual) < np.abs(pct_close * actual):\n",
    "      num_correct += 1\n",
    "    else:\n",
    "      num_wrong += 1\n",
    "  return (num_correct * 1.0) / (num_correct + num_wrong)\n",
    "\n",
    "# ------------------------------------------------------------"
   ]
  },
  {
   "cell_type": "markdown",
   "metadata": {},
   "source": [
    "# 0. get started"
   ]
  },
  {
   "cell_type": "code",
   "execution_count": 3,
   "metadata": {
    "collapsed": false
   },
   "outputs": [
    {
     "name": "stdout",
     "output_type": "stream",
     "text": [
      "\n",
      "Yacht Hull regression example using Keras \n",
      "\n",
      "Using Keras:  2.1.5 \n",
      "\n"
     ]
    }
   ],
   "source": [
    "print(\"\\nYacht Hull regression example using Keras \\n\")\n",
    "np.random.seed(1)\n",
    "\n",
    "kv = K.__version__\n",
    "print(\"Using Keras: \", kv, \"\\n\")"
   ]
  },
  {
   "cell_type": "markdown",
   "metadata": {},
   "source": [
    "# 1. load data"
   ]
  },
  {
   "cell_type": "code",
   "execution_count": 4,
   "metadata": {
    "collapsed": true
   },
   "outputs": [],
   "source": [
    "# |predictors\t 0.560000   0.228571 . . 0.692308  |resistance  0.117930\n",
    "#   [0]          [1]       [2]          [6]         [7]         [8]\n",
    "train_file = \".\\\\Data\\\\yacht_train_mm_tab_cntk.txt\"  # 277 items\n",
    "test_file = \".\\\\Data\\\\yacht_test_mm_tab_cntk.txt\"  # 31 items\n",
    "\n",
    "train_x = np.loadtxt(train_file, delimiter=\"\\t\", usecols=[1,2,3,4,5,6])\n",
    "train_y = np.loadtxt(train_file, delimiter=\"\\t\", usecols=[8])\n",
    "test_x = np.loadtxt(test_file, delimiter=\"\\t\", usecols=[1,2,3,4,5,6])\n",
    "test_y = np.loadtxt(test_file, delimiter=\"\\t\", usecols=[8])"
   ]
  },
  {
   "cell_type": "code",
   "execution_count": 14,
   "metadata": {
    "collapsed": false
   },
   "outputs": [
    {
     "data": {
      "text/plain": [
       "array([[0.52  , 0.5429, 0.    , 0.0669, 0.4615, 0.2308],\n",
       "       [0.54  , 1.    , 0.    , 0.5591, 0.    , 0.7692],\n",
       "       [1.    , 1.    , 0.55  , 0.563 , 0.4615, 0.3077],\n",
       "       [0.    , 1.    , 0.55  , 0.563 , 0.4615, 0.    ],\n",
       "       [1.    , 0.    , 0.55  , 0.3701, 0.4615, 0.5385],\n",
       "       [1.    , 0.5   , 0.95  , 0.4449, 0.8571, 0.7692],\n",
       "       [0.54  , 0.    , 0.525 , 0.3425, 0.4725, 0.0769],\n",
       "       [1.    , 1.    , 0.55  , 0.563 , 0.4615, 0.2308],\n",
       "       [0.    , 0.    , 0.55  , 0.3701, 0.4615, 0.6154],\n",
       "       [0.52  , 0.6286, 0.025 , 0.4528, 0.033 , 0.1538]])"
      ]
     },
     "execution_count": 14,
     "metadata": {},
     "output_type": "execute_result"
    }
   ],
   "source": [
    "train_x[:10] #explore first 10 values in the training dataset"
   ]
  },
  {
   "cell_type": "markdown",
   "metadata": {},
   "source": [
    "# 2. define 6-(10-10)-1 deep NN model"
   ]
  },
  {
   "cell_type": "code",
   "execution_count": 6,
   "metadata": {
    "collapsed": true
   },
   "outputs": [],
   "source": [
    "my_init = K.initializers.glorot_uniform(seed=1)\n",
    "model = K.models.Sequential()\n",
    "# implicit input layer is here\n",
    "model.add(K.layers.Dense(units=10, input_dim=6, activation='tanh', kernel_initializer=my_init))  # hidden layer\n",
    "model.add(K.layers.Dense(units=10, activation='tanh', kernel_initializer=my_init))  # hidden layer\n",
    "model.add(K.layers.Dense(units=1, activation=None, kernel_initializer=my_init))  # output layer, 1 node for regression"
   ]
  },
  {
   "cell_type": "code",
   "execution_count": 7,
   "metadata": {
    "collapsed": false
   },
   "outputs": [
    {
     "name": "stdout",
     "output_type": "stream",
     "text": [
      "_________________________________________________________________\n",
      "Layer (type)                 Output Shape              Param #   \n",
      "=================================================================\n",
      "dense_1 (Dense)              (None, 10)                70        \n",
      "_________________________________________________________________\n",
      "dense_2 (Dense)              (None, 10)                110       \n",
      "_________________________________________________________________\n",
      "dense_3 (Dense)              (None, 1)                 11        \n",
      "=================================================================\n",
      "Total params: 191\n",
      "Trainable params: 191\n",
      "Non-trainable params: 0\n",
      "_________________________________________________________________\n"
     ]
    }
   ],
   "source": [
    "model.summary()"
   ]
  },
  {
   "cell_type": "markdown",
   "metadata": {},
   "source": [
    "# 3. compile model"
   ]
  },
  {
   "cell_type": "code",
   "execution_count": 8,
   "metadata": {
    "collapsed": true
   },
   "outputs": [],
   "source": [
    "basic_sgd = K.optimizers.SGD()\n",
    "model.compile(loss='mean_squared_error', optimizer=basic_sgd, metrics=['mse'])"
   ]
  },
  {
   "cell_type": "markdown",
   "metadata": {},
   "source": [
    "# 4. train model"
   ]
  },
  {
   "cell_type": "code",
   "execution_count": 9,
   "metadata": {
    "collapsed": false
   },
   "outputs": [
    {
     "name": "stdout",
     "output_type": "stream",
     "text": [
      "epoch =    0  curr batch loss (mse) = 0.171641  overall acc = 5.78%\n",
      "epoch =  100  curr batch loss (mse) = 0.019916  overall acc = 7.58%\n",
      "epoch =  200  curr batch loss (mse) = 0.018282  overall acc = 7.58%\n",
      "epoch =  300  curr batch loss (mse) = 0.016351  overall acc = 9.03%\n",
      "epoch =  400  curr batch loss (mse) = 0.014161  overall acc = 9.75%\n",
      "epoch =  500  curr batch loss (mse) = 0.011589  overall acc = 9.75%\n",
      "epoch =  600  curr batch loss (mse) = 0.008320  overall acc = 13.00%\n",
      "epoch =  700  curr batch loss (mse) = 0.005595  overall acc = 20.22%\n",
      "epoch =  800  curr batch loss (mse) = 0.003872  overall acc = 20.94%\n",
      "epoch =  900  curr batch loss (mse) = 0.002988  overall acc = 20.22%\n"
     ]
    }
   ],
   "source": [
    "max_epochs = 1000  # touch all test items one time\n",
    "my_logger = MyLogger(int(max_epochs/10), train_x, train_y, 0.15)  # evaluate accuracy every n epochs\n",
    "h = model.fit(train_x, train_y, batch_size=16, epochs=max_epochs, verbose=0, callbacks=[my_logger])"
   ]
  },
  {
   "cell_type": "markdown",
   "metadata": {},
   "source": [
    "# 5. evaluate model"
   ]
  },
  {
   "cell_type": "code",
   "execution_count": 10,
   "metadata": {
    "collapsed": false
   },
   "outputs": [
    {
     "name": "stdout",
     "output_type": "stream",
     "text": [
      "\n",
      "Final overall accuracy on test data  = 19.35% \n",
      "Final overall loss (mse) on test data = 0.002645\n"
     ]
    }
   ],
   "source": [
    "acc = my_accuracy(model, test_x, test_y, 0.15)  # within x pct of actual\n",
    "print(\"\\nFinal overall accuracy on test data  = %0.2f%% \" % (acc * 100))\n",
    "eval_results = model.evaluate(test_x, test_y, verbose=0)  # [0] = loss (mse), [1] = compile-metrics = 'mse' again\n",
    "print(\"Final overall loss (mse) on test data = %0.6f\" % eval_results[0])"
   ]
  },
  {
   "cell_type": "markdown",
   "metadata": {},
   "source": [
    "# 6. save model"
   ]
  },
  {
   "cell_type": "code",
   "execution_count": 11,
   "metadata": {
    "collapsed": true
   },
   "outputs": [],
   "source": [
    "mp = \".\\\\Models\\\\yacht_model.h5\"\n",
    "model.save(mp)"
   ]
  },
  {
   "cell_type": "markdown",
   "metadata": {},
   "source": [
    "# 7. make a prediction for previously unseen data"
   ]
  },
  {
   "cell_type": "code",
   "execution_count": 12,
   "metadata": {
    "collapsed": false
   },
   "outputs": [
    {
     "name": "stdout",
     "output_type": "stream",
     "text": [
      "\n",
      "Making prediction for (mm-normalized) previously unseen inputs of: \n",
      "[[0.5611 0.2285 0.9511 0.0011 0.4615 0.9999]]\n",
      "\n",
      "Predicted (mm-normalized) hull resistance is: \n",
      "[[0.9581]]\n",
      "\n",
      "End Yacht Hull demo\n"
     ]
    }
   ],
   "source": [
    "inpts = np.array([[0.5611, 0.2285, 0.9511, 0.0011, 0.4615, 0.9999]], dtype=np.float32)\n",
    "pred = model.predict(inpts)\n",
    "np.set_printoptions(precision=4, suppress=True)\n",
    "print(\"\\nMaking prediction for (mm-normalized) previously unseen inputs of: \")\n",
    "print(inpts)\n",
    "print(\"\\nPredicted (mm-normalized) hull resistance is: \")\n",
    "print(pred)\n",
    "\n",
    "print(\"\\nEnd Yacht Hull demo\")"
   ]
  }
 ],
 "metadata": {
  "anaconda-cloud": {},
  "kernelspec": {
   "display_name": "Python [Root]",
   "language": "python",
   "name": "Python [Root]"
  },
  "language_info": {
   "codemirror_mode": {
    "name": "ipython",
    "version": 3
   },
   "file_extension": ".py",
   "mimetype": "text/x-python",
   "name": "python",
   "nbconvert_exporter": "python",
   "pygments_lexer": "ipython3",
   "version": "3.5.2"
  }
 },
 "nbformat": 4,
 "nbformat_minor": 0
}
