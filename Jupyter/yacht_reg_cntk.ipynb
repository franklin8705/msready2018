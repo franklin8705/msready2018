{
 "cells": [
  {
   "cell_type": "code",
   "execution_count": 1,
   "metadata": {
    "collapsed": true
   },
   "outputs": [],
   "source": [
    "# yacht_reg_cntk.py\n",
    "# regression on the Yacht Hull dataset\n",
    "# CNTK 2.4, Python 3.5.2\n",
    "\n",
    "import numpy as np\n",
    "import cntk as C\n",
    "\n",
    "# ------------------------------------------------------------"
   ]
  },
  {
   "cell_type": "code",
   "execution_count": 2,
   "metadata": {
    "collapsed": true
   },
   "outputs": [],
   "source": [
    "def file_len(fname):\n",
    " f = open(fname)\n",
    " for (i, l) in enumerate(f): pass\n",
    " f.close()\n",
    " return i+1\n",
    "\n",
    "def create_reader(path, input_dim, output_dim, rnd_order, sweeps):\n",
    "  x_strm = C.io.StreamDef(field='predictors', shape=input_dim, is_sparse=False)\n",
    "  y_strm = C.io.StreamDef(field='resistance', shape=output_dim, is_sparse=False)\n",
    "  streams = C.io.StreamDefs(x_src=x_strm, y_src=y_strm)\n",
    "  deserial = C.io.CTFDeserializer(path, streams)\n",
    "  mb_src = C.io.MinibatchSource(deserial, randomize=rnd_order, max_sweeps=sweeps)\n",
    "  return mb_src\n",
    "\n",
    "def mb_accuracy(mb, x_var, y_var, model, delta_pct):\n",
    "  num_correct = 0\n",
    "  num_wrong = 0\n",
    "\n",
    "  x_mat = mb[x_var].asarray()  # batch_size x 1 x features_dim\n",
    "  y_mat = mb[y_var].asarray()  # batch_size x 1 x 1\n",
    "\n",
    "  # for i in range(mb[x_var].shape[0]):  # each item in the batch\n",
    "  for i in range(len(mb[x_var])):\n",
    "    v = model.eval(x_mat[i])           # 1 x 1 predicted value\n",
    "    y = y_mat[i]                       # 1 x 1 actual value\n",
    "    if np.abs(v[0,0] - y[0,0]) <  delta_pct * y:  # close enough?\n",
    "      num_correct += 1\n",
    "    else:\n",
    "      num_wrong += 1\n",
    "  return (num_correct * 100.0) / (num_correct + num_wrong)\n",
    "\n",
    "def mb_mean_sq_error(mb, x_var, y_var, model):\n",
    "  x_mat = mb[x_var].asarray()  # batch_size x 1 x features_dim\n",
    "  y_mat = mb[y_var].asarray()  # batch_size x 1 x 1\n",
    "\n",
    "  sum = 0.0\n",
    "  for i in range(len(mb[x_var])):\n",
    "    v = model.eval(x_mat[i])           # 1 x 1 predicted value\n",
    "    y = y_mat[i]                       # 1 x 1 actual value\n",
    "    sum += (v[0,0] - y[0,0]) * (v[0,0] - y[0,0])\n",
    "  return sum / len(mb[x_var])\n",
    "\n",
    "# ------------------------------------------------------------"
   ]
  },
  {
   "cell_type": "code",
   "execution_count": 3,
   "metadata": {
    "collapsed": false
   },
   "outputs": [
    {
     "name": "stdout",
     "output_type": "stream",
     "text": [
      "\n",
      "Yacht Hull regression example using CNTK \n",
      "\n",
      "Using CNTK:  2.4 \n",
      "\n"
     ]
    }
   ],
   "source": [
    "# 0. get started\n",
    "print(\"\\nYacht Hull regression example using CNTK \\n\")\n",
    "np.random.seed(1)\n",
    "\n",
    "cv = C.__version__\n",
    "print(\"Using CNTK: \", cv, \"\\n\")\n",
    "\n",
    "train_file = \".\\\\Data\\\\yacht_train_mm_tab_cntk.txt\"  # 277 items\n",
    "test_file = \".\\\\Data\\\\yacht_test_mm_tab_cntk.txt\"  # 31 items\n",
    "input_dim = 6; hidden_dim = 10; output_dim = 1\n",
    "\n",
    "X = C.ops.input_variable(input_dim, np.float32)\n",
    "Y = C.ops.input_variable(output_dim)"
   ]
  },
  {
   "cell_type": "code",
   "execution_count": 4,
   "metadata": {
    "collapsed": true
   },
   "outputs": [],
   "source": [
    "# 1. prepare data reader\n",
    "# |predictors\t 0.560000   0.228571 . . 0.692308  |resistance  0.117930\n",
    "#   [0]          [1]       [2]          [6]         [7]         [8]\n",
    "rdr = create_reader(train_file, input_dim, output_dim, rnd_order=True, sweeps=C.io.INFINITELY_REPEAT)\n",
    "yacht_map = {\n",
    "X : rdr.streams.x_src,\n",
    "Y : rdr.streams.y_src\n",
    "}"
   ]
  },
  {
   "cell_type": "code",
   "execution_count": 5,
   "metadata": {
    "collapsed": true
   },
   "outputs": [],
   "source": [
    "# 2. define 6-(10-10)-1 deep NN model\n",
    "my_init = C.initializer.glorot_uniform(seed=1)\n",
    "model = C.layers.Sequential([\n",
    "C.layers.Dense(hidden_dim, activation=C.ops.tanh, name='hidLayer1', init=my_init),\n",
    "C.layers.Dense(hidden_dim, activation=C.ops.tanh, name='hidLayer2', init=my_init),\n",
    "C.layers.Dense(output_dim, activation=None, name='outLayer', init=my_init)])(X)"
   ]
  },
  {
   "cell_type": "code",
   "execution_count": 6,
   "metadata": {
    "collapsed": true
   },
   "outputs": [],
   "source": [
    "# 3. (no explicit compilation in CNTK)"
   ]
  },
  {
   "cell_type": "code",
   "execution_count": 9,
   "metadata": {
    "collapsed": false
   },
   "outputs": [
    {
     "name": "stdout",
     "output_type": "stream",
     "text": [
      "batch      0: mean squared error =   0.0005  accuracy = 43.75%\n",
      "batch   1000: mean squared error =   0.0005  accuracy = 31.25%\n",
      "batch   2000: mean squared error =   0.0003  accuracy = 37.50%\n",
      "batch   3000: mean squared error =   0.0012  accuracy = 43.75%\n",
      "batch   4000: mean squared error =   0.0004  accuracy = 50.00%\n",
      "batch   5000: mean squared error =   0.0015  accuracy = 50.00%\n",
      "batch   6000: mean squared error =   0.0003  accuracy = 43.75%\n",
      "batch   7000: mean squared error =   0.0001  accuracy = 43.75%\n",
      "batch   8000: mean squared error =   0.0003  accuracy = 37.50%\n",
      "batch   9000: mean squared error =   0.0003  accuracy = 31.25%\n"
     ]
    }
   ],
   "source": [
    "# 4. train model\n",
    "max_iter = 10000\n",
    "batch_size = 16\n",
    "basic_sgd = C.learners.sgd(model.parameters, lr=0.05)\n",
    "tr_loss = C.squared_error(model, Y)\n",
    "trainer = C.Trainer(model, (tr_loss, None), [basic_sgd]) \n",
    "\n",
    "for i in range(0, max_iter):\n",
    "    curr_batch = rdr.next_minibatch(batch_size, input_map=yacht_map)\n",
    "    trainer.train_minibatch(curr_batch)\n",
    "    if i % int(max_iter/10) == 0:\n",
    "      mcee = trainer.previous_minibatch_loss_average \n",
    "      acc = mb_accuracy(curr_batch, X, Y, model, delta_pct=0.15)\n",
    "      print(\"batch %6d: mean squared error = %8.4f  accuracy = %5.2f%%\" % (i, mcee, acc))"
   ]
  },
  {
   "cell_type": "code",
   "execution_count": 10,
   "metadata": {
    "collapsed": false
   },
   "outputs": [
    {
     "name": "stdout",
     "output_type": "stream",
     "text": [
      "\n",
      "Final overall accuracy on test data  = 35.48% \n",
      "Final overall loss (mse) on test data = 0.000238\n"
     ]
    }
   ],
   "source": [
    "# 5. evaluate model\n",
    "rdr = create_reader(train_file, input_dim, output_dim, rnd_order=False, sweeps=1)\n",
    "\n",
    "yacht_map = {\n",
    "X : rdr.streams.x_src,\n",
    "Y : rdr.streams.y_src\n",
    "}\n",
    "\n",
    "num_test = file_len(test_file)  # 31\n",
    "all_test = rdr.next_minibatch(num_test, input_map=yacht_map)\n",
    "acc = mb_accuracy(all_test, X, Y, model, delta_pct=0.15)\n",
    "mse = mb_mean_sq_error(all_test, X, Y, model)\n",
    "print(\"\\nFinal overall accuracy on test data  = %0.2f%% \" % acc) \n",
    "print(\"Final overall loss (mse) on test data = %0.6f\" % mse)  "
   ]
  },
  {
   "cell_type": "code",
   "execution_count": 11,
   "metadata": {
    "collapsed": true
   },
   "outputs": [],
   "source": [
    "# 6. save model\n",
    "mp = \".\\\\Models\\\\yacht_model.cntk\"\n",
    "model.save(mp)"
   ]
  },
  {
   "cell_type": "code",
   "execution_count": 12,
   "metadata": {
    "collapsed": false
   },
   "outputs": [
    {
     "name": "stdout",
     "output_type": "stream",
     "text": [
      "\n",
      "Making prediction for (mm-normalized) previously unseen inputs of: \n",
      "[[0.5611 0.2285 0.9511 0.0011 0.4615 0.9999]]\n",
      "\n",
      "Predicted (mm-normalized) hull resistance is: \n",
      "[[0.8253]]\n",
      "\n",
      "End Yacht Hull demo\n"
     ]
    }
   ],
   "source": [
    "# 7. make a prediction for previously unseen data\n",
    "inpts = np.array([[0.5611, 0.2285, 0.9511, 0.0011, 0.4615, 0.9999]], dtype=np.float32)\n",
    "pred = model.eval(inpts)\n",
    "np.set_printoptions(precision=4, suppress=True)\n",
    "print(\"\\nMaking prediction for (mm-normalized) previously unseen inputs of: \")\n",
    "print(inpts)\n",
    "print(\"\\nPredicted (mm-normalized) hull resistance is: \")\n",
    "print(pred)\n",
    "\n",
    "print(\"\\nEnd Yacht Hull demo\")"
   ]
  },
  {
   "cell_type": "code",
   "execution_count": null,
   "metadata": {
    "collapsed": true
   },
   "outputs": [],
   "source": []
  }
 ],
 "metadata": {
  "kernelspec": {
   "display_name": "Python [Root]",
   "language": "python",
   "name": "Python [Root]"
  },
  "language_info": {
   "codemirror_mode": {
    "name": "ipython",
    "version": 3
   },
   "file_extension": ".py",
   "mimetype": "text/x-python",
   "name": "python",
   "nbconvert_exporter": "python",
   "pygments_lexer": "ipython3",
   "version": "3.5.2"
  }
 },
 "nbformat": 4,
 "nbformat_minor": 0
}
